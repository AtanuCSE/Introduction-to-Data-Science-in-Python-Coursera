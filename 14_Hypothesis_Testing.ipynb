{
  "nbformat": 4,
  "nbformat_minor": 0,
  "metadata": {
    "colab": {
      "name": "14_Hypothesis_Testing.ipynb",
      "provenance": [],
      "toc_visible": true
    },
    "kernelspec": {
      "name": "python3",
      "display_name": "Python 3"
    }
  },
  "cells": [
    {
      "cell_type": "markdown",
      "metadata": {
        "id": "dFtZ6Rg_qu5E",
        "colab_type": "text"
      },
      "source": [
        "# **Pandas DataFrame Hypothesis Testing**\n",
        "___\n",
        "___\n"
      ]
    },
    {
      "cell_type": "markdown",
      "metadata": {
        "id": "3_LOhUgCqzH9",
        "colab_type": "text"
      },
      "source": [
        "***Topics*** \n",
        "*   Basic **Hypothesis** Testing\n",
        "    - Date-wise Dataset Breaking\n",
        "    - Numeric Column-wise Function (e.g.: mean,sum, etc.)\n",
        "    - ttest_ind Test from Scipy library"
      ]
    },
    {
      "cell_type": "code",
      "metadata": {
        "id": "jwHcKiSxqsLK",
        "colab_type": "code",
        "colab": {}
      },
      "source": [
        "import pandas as pd"
      ],
      "execution_count": 1,
      "outputs": []
    },
    {
      "cell_type": "code",
      "metadata": {
        "id": "1CHZ74CjrKQ1",
        "colab_type": "code",
        "colab": {
          "base_uri": "https://localhost:8080/",
          "height": 949
        },
        "outputId": "37bccd70-dda0-4916-f002-f4bdb299c694"
      },
      "source": [
        "df = pd.read_csv('grades.csv')\n",
        "df"
      ],
      "execution_count": 2,
      "outputs": [
        {
          "output_type": "execute_result",
          "data": {
            "text/html": [
              "<div>\n",
              "<style scoped>\n",
              "    .dataframe tbody tr th:only-of-type {\n",
              "        vertical-align: middle;\n",
              "    }\n",
              "\n",
              "    .dataframe tbody tr th {\n",
              "        vertical-align: top;\n",
              "    }\n",
              "\n",
              "    .dataframe thead th {\n",
              "        text-align: right;\n",
              "    }\n",
              "</style>\n",
              "<table border=\"1\" class=\"dataframe\">\n",
              "  <thead>\n",
              "    <tr style=\"text-align: right;\">\n",
              "      <th></th>\n",
              "      <th>student_id</th>\n",
              "      <th>assignment1_grade</th>\n",
              "      <th>assignment1_submission</th>\n",
              "      <th>assignment2_grade</th>\n",
              "      <th>assignment2_submission</th>\n",
              "      <th>assignment3_grade</th>\n",
              "      <th>assignment3_submission</th>\n",
              "      <th>assignment4_grade</th>\n",
              "      <th>assignment4_submission</th>\n",
              "      <th>assignment5_grade</th>\n",
              "      <th>assignment5_submission</th>\n",
              "      <th>assignment6_grade</th>\n",
              "      <th>assignment6_submission</th>\n",
              "    </tr>\n",
              "  </thead>\n",
              "  <tbody>\n",
              "    <tr>\n",
              "      <th>0</th>\n",
              "      <td>B73F2C11-70F0-E37D-8B10-1D20AFED50B1</td>\n",
              "      <td>92.733946</td>\n",
              "      <td>2015-11-02 06:55:34.282000000</td>\n",
              "      <td>83.030552</td>\n",
              "      <td>2015-11-09 02:22:58.938000000</td>\n",
              "      <td>67.164441</td>\n",
              "      <td>2015-11-12 08:58:33.998000000</td>\n",
              "      <td>53.011553</td>\n",
              "      <td>2015-11-16 01:21:24.663000000</td>\n",
              "      <td>47.710398</td>\n",
              "      <td>2015-11-20 13:24:59.692000000</td>\n",
              "      <td>38.168318</td>\n",
              "      <td>2015-11-22 18:31:15.934000000</td>\n",
              "    </tr>\n",
              "    <tr>\n",
              "      <th>1</th>\n",
              "      <td>98A0FAE0-A19A-13D2-4BB5-CFBFD94031D1</td>\n",
              "      <td>86.790821</td>\n",
              "      <td>2015-11-29 14:57:44.429000000</td>\n",
              "      <td>86.290821</td>\n",
              "      <td>2015-12-06 17:41:18.449000000</td>\n",
              "      <td>69.772657</td>\n",
              "      <td>2015-12-10 08:54:55.904000000</td>\n",
              "      <td>55.098125</td>\n",
              "      <td>2015-12-13 17:32:30.941000000</td>\n",
              "      <td>49.588313</td>\n",
              "      <td>2015-12-19 23:26:39.285000000</td>\n",
              "      <td>44.629482</td>\n",
              "      <td>2015-12-21 17:07:24.275000000</td>\n",
              "    </tr>\n",
              "    <tr>\n",
              "      <th>2</th>\n",
              "      <td>D0F62040-CEB0-904C-F563-2F8620916C4E</td>\n",
              "      <td>85.512541</td>\n",
              "      <td>2016-01-09 05:36:02.389000000</td>\n",
              "      <td>85.512541</td>\n",
              "      <td>2016-01-09 06:39:44.416000000</td>\n",
              "      <td>68.410033</td>\n",
              "      <td>2016-01-15 20:22:45.882000000</td>\n",
              "      <td>54.728026</td>\n",
              "      <td>2016-01-11 12:41:50.749000000</td>\n",
              "      <td>49.255224</td>\n",
              "      <td>2016-01-11 17:31:12.489000000</td>\n",
              "      <td>44.329701</td>\n",
              "      <td>2016-01-17 16:24:42.765000000</td>\n",
              "    </tr>\n",
              "    <tr>\n",
              "      <th>3</th>\n",
              "      <td>FFDF2B2C-F514-EF7F-6538-A6A53518E9DC</td>\n",
              "      <td>86.030665</td>\n",
              "      <td>2016-04-30 06:50:39.801000000</td>\n",
              "      <td>68.824532</td>\n",
              "      <td>2016-04-30 17:20:38.727000000</td>\n",
              "      <td>61.942079</td>\n",
              "      <td>2016-05-12 07:47:16.326000000</td>\n",
              "      <td>49.553663</td>\n",
              "      <td>2016-05-07 16:09:20.485000000</td>\n",
              "      <td>49.553663</td>\n",
              "      <td>2016-05-24 12:51:18.016000000</td>\n",
              "      <td>44.598297</td>\n",
              "      <td>2016-05-26 08:09:12.058000000</td>\n",
              "    </tr>\n",
              "    <tr>\n",
              "      <th>4</th>\n",
              "      <td>5ECBEEB6-F1CE-80AE-3164-E45E99473FB4</td>\n",
              "      <td>64.813800</td>\n",
              "      <td>2015-12-13 17:06:10.750000000</td>\n",
              "      <td>51.491040</td>\n",
              "      <td>2015-12-14 12:25:12.056000000</td>\n",
              "      <td>41.932832</td>\n",
              "      <td>2015-12-29 14:25:22.594000000</td>\n",
              "      <td>36.929549</td>\n",
              "      <td>2015-12-28 01:29:55.901000000</td>\n",
              "      <td>33.236594</td>\n",
              "      <td>2015-12-29 14:46:06.628000000</td>\n",
              "      <td>33.236594</td>\n",
              "      <td>2016-01-05 01:06:59.546000000</td>\n",
              "    </tr>\n",
              "    <tr>\n",
              "      <th>...</th>\n",
              "      <td>...</td>\n",
              "      <td>...</td>\n",
              "      <td>...</td>\n",
              "      <td>...</td>\n",
              "      <td>...</td>\n",
              "      <td>...</td>\n",
              "      <td>...</td>\n",
              "      <td>...</td>\n",
              "      <td>...</td>\n",
              "      <td>...</td>\n",
              "      <td>...</td>\n",
              "      <td>...</td>\n",
              "      <td>...</td>\n",
              "    </tr>\n",
              "    <tr>\n",
              "      <th>2310</th>\n",
              "      <td>DE88902E-C7A7-E37A-CFA7-F2C8F2D219F2</td>\n",
              "      <td>77.684611</td>\n",
              "      <td>2016-03-07 02:52:24.378000000</td>\n",
              "      <td>69.916150</td>\n",
              "      <td>2016-03-11 22:02:39.161000000</td>\n",
              "      <td>69.916150</td>\n",
              "      <td>2016-03-17 07:30:09.261000000</td>\n",
              "      <td>69.916150</td>\n",
              "      <td>2016-03-18 18:01:24.525000000</td>\n",
              "      <td>55.932920</td>\n",
              "      <td>2016-03-20 06:38:12.120000000</td>\n",
              "      <td>50.339628</td>\n",
              "      <td>2016-03-25 11:00:06.923000000</td>\n",
              "    </tr>\n",
              "    <tr>\n",
              "      <th>2311</th>\n",
              "      <td>DE88902E-C7A7-E37A-CFA7-F2C8F2D219F2</td>\n",
              "      <td>75.367870</td>\n",
              "      <td>2015-11-29 02:43:27.932000000</td>\n",
              "      <td>59.934296</td>\n",
              "      <td>2015-12-03 05:30:39.218000000</td>\n",
              "      <td>48.687437</td>\n",
              "      <td>2015-12-09 15:56:44.895000000</td>\n",
              "      <td>43.008693</td>\n",
              "      <td>2015-12-13 06:18:01.342000000</td>\n",
              "      <td>38.707824</td>\n",
              "      <td>2015-12-20 02:39:39.248000000</td>\n",
              "      <td>38.707824</td>\n",
              "      <td>2015-12-22 13:34:42.931000000</td>\n",
              "    </tr>\n",
              "    <tr>\n",
              "      <th>2312</th>\n",
              "      <td>EFDA9F93-D0C3-864F-B0F6-2E9AA3E05E31</td>\n",
              "      <td>73.269463</td>\n",
              "      <td>2015-10-20 08:09:27.418000000</td>\n",
              "      <td>58.255570</td>\n",
              "      <td>2015-11-18 19:07:06.930000000</td>\n",
              "      <td>58.955570</td>\n",
              "      <td>2015-12-10 08:54:54.871000000</td>\n",
              "      <td>52.250013</td>\n",
              "      <td>2015-11-23 19:40:00.434000000</td>\n",
              "      <td>41.800010</td>\n",
              "      <td>2015-11-29 14:23:43.659000000</td>\n",
              "      <td>41.800010</td>\n",
              "      <td>2015-12-04 09:56:07.156000000</td>\n",
              "    </tr>\n",
              "    <tr>\n",
              "      <th>2313</th>\n",
              "      <td>1F51E050-78F7-F270-1B90-ED1BC0376763</td>\n",
              "      <td>87.268366</td>\n",
              "      <td>2016-04-03 09:04:51.646000000</td>\n",
              "      <td>87.268366</td>\n",
              "      <td>2016-04-08 19:24:29.095000000</td>\n",
              "      <td>87.268366</td>\n",
              "      <td>2016-04-12 05:43:33.853000000</td>\n",
              "      <td>69.814693</td>\n",
              "      <td>2016-04-14 10:43:58.104000000</td>\n",
              "      <td>55.851754</td>\n",
              "      <td>2016-04-19 05:37:19.322000000</td>\n",
              "      <td>55.851754</td>\n",
              "      <td>2016-04-23 03:44:06.813000000</td>\n",
              "    </tr>\n",
              "    <tr>\n",
              "      <th>2314</th>\n",
              "      <td>DDE0526B-7DA4-80E8-C2A6-D097F3826029</td>\n",
              "      <td>80.318105</td>\n",
              "      <td>2015-10-04 09:46:03.403000000</td>\n",
              "      <td>79.818105</td>\n",
              "      <td>2015-10-06 10:28:30.820000000</td>\n",
              "      <td>64.594484</td>\n",
              "      <td>2015-10-13 17:06:29.179000000</td>\n",
              "      <td>50.955587</td>\n",
              "      <td>2015-10-06 16:18:35.513000000</td>\n",
              "      <td>40.764470</td>\n",
              "      <td>2015-10-23 17:03:26.939000000</td>\n",
              "      <td>40.764470</td>\n",
              "      <td>2015-10-26 15:56:55.460000000</td>\n",
              "    </tr>\n",
              "  </tbody>\n",
              "</table>\n",
              "<p>2315 rows × 13 columns</p>\n",
              "</div>"
            ],
            "text/plain": [
              "                                student_id  ...         assignment6_submission\n",
              "0     B73F2C11-70F0-E37D-8B10-1D20AFED50B1  ...  2015-11-22 18:31:15.934000000\n",
              "1     98A0FAE0-A19A-13D2-4BB5-CFBFD94031D1  ...  2015-12-21 17:07:24.275000000\n",
              "2     D0F62040-CEB0-904C-F563-2F8620916C4E  ...  2016-01-17 16:24:42.765000000\n",
              "3     FFDF2B2C-F514-EF7F-6538-A6A53518E9DC  ...  2016-05-26 08:09:12.058000000\n",
              "4     5ECBEEB6-F1CE-80AE-3164-E45E99473FB4  ...  2016-01-05 01:06:59.546000000\n",
              "...                                    ...  ...                            ...\n",
              "2310  DE88902E-C7A7-E37A-CFA7-F2C8F2D219F2  ...  2016-03-25 11:00:06.923000000\n",
              "2311  DE88902E-C7A7-E37A-CFA7-F2C8F2D219F2  ...  2015-12-22 13:34:42.931000000\n",
              "2312  EFDA9F93-D0C3-864F-B0F6-2E9AA3E05E31  ...  2015-12-04 09:56:07.156000000\n",
              "2313  1F51E050-78F7-F270-1B90-ED1BC0376763  ...  2016-04-23 03:44:06.813000000\n",
              "2314  DDE0526B-7DA4-80E8-C2A6-D097F3826029  ...  2015-10-26 15:56:55.460000000\n",
              "\n",
              "[2315 rows x 13 columns]"
            ]
          },
          "metadata": {
            "tags": []
          },
          "execution_count": 2
        }
      ]
    },
    {
      "cell_type": "code",
      "metadata": {
        "id": "MCfBvTv4rVQL",
        "colab_type": "code",
        "colab": {
          "base_uri": "https://localhost:8080/",
          "height": 34
        },
        "outputId": "8d967542-2e9e-4685-a8d4-baaea293411a"
      },
      "source": [
        "len(df)"
      ],
      "execution_count": 3,
      "outputs": [
        {
          "output_type": "execute_result",
          "data": {
            "text/plain": [
              "2315"
            ]
          },
          "metadata": {
            "tags": []
          },
          "execution_count": 3
        }
      ]
    },
    {
      "cell_type": "markdown",
      "metadata": {
        "id": "nsHu06XKsGkX",
        "colab_type": "text"
      },
      "source": [
        "**Date-wise Dataset Breaking**"
      ]
    },
    {
      "cell_type": "code",
      "metadata": {
        "id": "NBPxMES3rZhP",
        "colab_type": "code",
        "colab": {
          "base_uri": "https://localhost:8080/",
          "height": 289
        },
        "outputId": "9186cebe-0437-4c58-9892-4225b8e85426"
      },
      "source": [
        "early = df[df['assignment1_submission'] <= '2015-12-31']\n",
        "late = df[df['assignment1_submission'] > '2015-12-31']\n",
        "print(early.head())\n",
        "print(late.head())"
      ],
      "execution_count": 6,
      "outputs": [
        {
          "output_type": "stream",
          "text": [
            "                             student_id  ...         assignment6_submission\n",
            "0  B73F2C11-70F0-E37D-8B10-1D20AFED50B1  ...  2015-11-22 18:31:15.934000000\n",
            "1  98A0FAE0-A19A-13D2-4BB5-CFBFD94031D1  ...  2015-12-21 17:07:24.275000000\n",
            "4  5ECBEEB6-F1CE-80AE-3164-E45E99473FB4  ...  2016-01-05 01:06:59.546000000\n",
            "5  D09000A0-827B-C0FF-3433-BF8FF286E15B  ...  2016-01-20 19:54:46.166000000\n",
            "8  C9D51293-BD58-F113-4167-A7C0BAFCB6E5  ...  2016-01-19 15:24:31.060000000\n",
            "\n",
            "[5 rows x 13 columns]\n",
            "                             student_id  ...         assignment6_submission\n",
            "2  D0F62040-CEB0-904C-F563-2F8620916C4E  ...  2016-01-17 16:24:42.765000000\n",
            "3  FFDF2B2C-F514-EF7F-6538-A6A53518E9DC  ...  2016-05-26 08:09:12.058000000\n",
            "6  3217BE3F-E4B0-C3B6-9F64-462456819CE4  ...  2016-03-23 14:02:00.987000000\n",
            "7  F1CB5AA1-B3DE-5460-FAFF-BE951FD38B5F  ...  2016-02-18 08:35:04.796000000\n",
            "9  E2C617C2-4654-622C-AB50-1550C4BE42A0  ...  2016-03-30 20:33:13.554000000\n",
            "\n",
            "[5 rows x 13 columns]\n"
          ],
          "name": "stdout"
        }
      ]
    },
    {
      "cell_type": "markdown",
      "metadata": {
        "id": "okYZR-S0sAfI",
        "colab_type": "text"
      },
      "source": [
        "**Numeric Column-wise Function**"
      ]
    },
    {
      "cell_type": "code",
      "metadata": {
        "id": "0E3tBzCbrd-S",
        "colab_type": "code",
        "colab": {
          "base_uri": "https://localhost:8080/",
          "height": 136
        },
        "outputId": "8ed0da1b-6af4-453a-dc67-077207c2150b"
      },
      "source": [
        "early.mean()"
      ],
      "execution_count": 5,
      "outputs": [
        {
          "output_type": "execute_result",
          "data": {
            "text/plain": [
              "assignment1_grade    74.972741\n",
              "assignment2_grade    67.252190\n",
              "assignment3_grade    61.129050\n",
              "assignment4_grade    54.157620\n",
              "assignment5_grade    48.634643\n",
              "assignment6_grade    43.838980\n",
              "dtype: float64"
            ]
          },
          "metadata": {
            "tags": []
          },
          "execution_count": 5
        }
      ]
    },
    {
      "cell_type": "code",
      "metadata": {
        "id": "nZtnmEkdr8o1",
        "colab_type": "code",
        "colab": {
          "base_uri": "https://localhost:8080/",
          "height": 136
        },
        "outputId": "524f5c54-b3c8-44d0-abf2-8ca421087d38"
      },
      "source": [
        "late.mean()"
      ],
      "execution_count": 7,
      "outputs": [
        {
          "output_type": "execute_result",
          "data": {
            "text/plain": [
              "assignment1_grade    74.017429\n",
              "assignment2_grade    66.370822\n",
              "assignment3_grade    60.023244\n",
              "assignment4_grade    54.058138\n",
              "assignment5_grade    48.599402\n",
              "assignment6_grade    43.844384\n",
              "dtype: float64"
            ]
          },
          "metadata": {
            "tags": []
          },
          "execution_count": 7
        }
      ]
    },
    {
      "cell_type": "markdown",
      "metadata": {
        "id": "IdYBJdV4vcTC",
        "colab_type": "text"
      },
      "source": [
        "# **ttest_ind Test from Scipy library**\n",
        "P-value lower than 0.05 proves the null hypothesis. Reject, Otherwise. In the case below, test is made to check if grades(performance) from early course takers are similar to late course takers after launcing a new course."
      ]
    },
    {
      "cell_type": "code",
      "metadata": {
        "id": "Nv9Y9E41sNn6",
        "colab_type": "code",
        "colab": {
          "base_uri": "https://localhost:8080/",
          "height": 34
        },
        "outputId": "db41ebbf-038f-4bc8-ad27-b5b00b24a8fa"
      },
      "source": [
        "from scipy import stats\n",
        "stats.ttest_ind(early['assignment1_grade'], late['assignment1_grade'])"
      ],
      "execution_count": 9,
      "outputs": [
        {
          "output_type": "execute_result",
          "data": {
            "text/plain": [
              "Ttest_indResult(statistic=1.400549944897566, pvalue=0.16148283016060577)"
            ]
          },
          "metadata": {
            "tags": []
          },
          "execution_count": 9
        }
      ]
    },
    {
      "cell_type": "code",
      "metadata": {
        "id": "hiA_ravrshL9",
        "colab_type": "code",
        "colab": {
          "base_uri": "https://localhost:8080/",
          "height": 34
        },
        "outputId": "ee735ee7-e64f-4499-96cc-cf35cab2c420"
      },
      "source": [
        "stats.ttest_ind(early['assignment2_grade'], late['assignment2_grade'])"
      ],
      "execution_count": 10,
      "outputs": [
        {
          "output_type": "execute_result",
          "data": {
            "text/plain": [
              "Ttest_indResult(statistic=1.3239868220912567, pvalue=0.18563824610067967)"
            ]
          },
          "metadata": {
            "tags": []
          },
          "execution_count": 10
        }
      ]
    },
    {
      "cell_type": "code",
      "metadata": {
        "id": "CSCXioR2spWY",
        "colab_type": "code",
        "colab": {
          "base_uri": "https://localhost:8080/",
          "height": 34
        },
        "outputId": "c2d94286-4e8e-421b-e912-49bf9a7cb4ef"
      },
      "source": [
        "stats.ttest_ind(early['assignment3_grade'], late['assignment3_grade'])"
      ],
      "execution_count": 11,
      "outputs": [
        {
          "output_type": "execute_result",
          "data": {
            "text/plain": [
              "Ttest_indResult(statistic=1.7116160037010733, pvalue=0.08710151634155668)"
            ]
          },
          "metadata": {
            "tags": []
          },
          "execution_count": 11
        }
      ]
    }
  ]
}