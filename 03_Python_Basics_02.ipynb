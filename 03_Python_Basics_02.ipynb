{
  "nbformat": 4,
  "nbformat_minor": 0,
  "metadata": {
    "colab": {
      "name": "03_Python_Basics_02.ipynb",
      "provenance": []
    },
    "kernelspec": {
      "name": "python3",
      "display_name": "Python 3"
    }
  },
  "cells": [
    {
      "cell_type": "markdown",
      "metadata": {
        "id": "1NeQLSoejXGa",
        "colab_type": "text"
      },
      "source": [
        "# **Python Basics**\n",
        "___\n",
        "___"
      ]
    },
    {
      "cell_type": "markdown",
      "metadata": {
        "id": "V1Pr64Z0kKpc",
        "colab_type": "text"
      },
      "source": [
        "### Topics\n",
        "\n",
        "\n",
        "*   Class Object\n",
        "*   **`lamda function`**\n",
        "*   **`List Comprehension`**\n",
        "*   Numpy\n",
        "*   List Comprehension\n",
        "*   Indexing / Slicing"
      ]
    },
    {
      "cell_type": "markdown",
      "metadata": {
        "id": "LeS8MeIYjg0B",
        "colab_type": "text"
      },
      "source": [
        "**Class Object**"
      ]
    },
    {
      "cell_type": "code",
      "metadata": {
        "id": "Bd6o4FKejjCM",
        "colab_type": "code",
        "colab": {
          "base_uri": "https://localhost:8080/",
          "height": 34
        },
        "outputId": "6828dab6-689f-462b-bc9c-45925949bbfd"
      },
      "source": [
        "class Person:\n",
        "    department = 'School of Information' #a class variable\n",
        "\n",
        "    def set_name(self, new_name): #a method\n",
        "        self.name = new_name\n",
        "    def set_location(self, new_location):\n",
        "        self.location = new_location\n",
        "\n",
        "person = Person()\n",
        "person.set_name('Christopher Brooks')\n",
        "person.set_location('Ann Arbor, MI, USA')\n",
        "print('{} live in {} and works in the department {}'.format(person.name, person.location, person.department))"
      ],
      "execution_count": 1,
      "outputs": [
        {
          "output_type": "stream",
          "text": [
            "Christopher Brooks live in Ann Arbor, MI, USA and works in the department School of Information\n"
          ],
          "name": "stdout"
        }
      ]
    },
    {
      "cell_type": "markdown",
      "metadata": {
        "id": "29SCh6tAjrpB",
        "colab_type": "text"
      },
      "source": [
        "**lamda function**"
      ]
    },
    {
      "cell_type": "code",
      "metadata": {
        "id": "eXKEAVIYjuUh",
        "colab_type": "code",
        "colab": {
          "base_uri": "https://localhost:8080/",
          "height": 34
        },
        "outputId": "3dfe4b15-a87c-454f-bb9c-5fe3ad26c328"
      },
      "source": [
        "my_function = lambda a, b, c : a + b\n",
        "my_function(1, 2, 3)"
      ],
      "execution_count": 2,
      "outputs": [
        {
          "output_type": "execute_result",
          "data": {
            "text/plain": [
              "3"
            ]
          },
          "metadata": {
            "tags": []
          },
          "execution_count": 2
        }
      ]
    },
    {
      "cell_type": "markdown",
      "metadata": {
        "id": "g4ldfizEkZZt",
        "colab_type": "text"
      },
      "source": [
        "**List Comprehension**"
      ]
    },
    {
      "cell_type": "code",
      "metadata": {
        "id": "1JE0BAqYkcIq",
        "colab_type": "code",
        "colab": {
          "base_uri": "https://localhost:8080/",
          "height": 34
        },
        "outputId": "db700993-9666-40c3-cef5-ca86892cbb8d"
      },
      "source": [
        "my_list = [number for number in range(0,10) if number % 2 == 0]\n",
        "my_list"
      ],
      "execution_count": 5,
      "outputs": [
        {
          "output_type": "execute_result",
          "data": {
            "text/plain": [
              "[0, 2, 4, 6, 8]"
            ]
          },
          "metadata": {
            "tags": []
          },
          "execution_count": 5
        }
      ]
    },
    {
      "cell_type": "code",
      "metadata": {
        "id": "g1ikdl-Fxaal",
        "colab_type": "code",
        "colab": {
          "base_uri": "https://localhost:8080/",
          "height": 54
        },
        "outputId": "dc3be523-aab5-4cee-ca66-cb54d0858102"
      },
      "source": [
        "lowercase = 'abcdef'\n",
        "digits = '123456'\n",
        "\n",
        "lists = [a+b+c+d for a in lowercase for b in lowercase for c in digits for d in digits]\n",
        "print(lists)"
      ],
      "execution_count": 27,
      "outputs": [
        {
          "output_type": "stream",
          "text": [
            "['aa11', 'aa12', 'aa13', 'aa14', 'aa15', 'aa16', 'aa21', 'aa22', 'aa23', 'aa24', 'aa25', 'aa26', 'aa31', 'aa32', 'aa33', 'aa34', 'aa35', 'aa36', 'aa41', 'aa42', 'aa43', 'aa44', 'aa45', 'aa46', 'aa51', 'aa52', 'aa53', 'aa54', 'aa55', 'aa56', 'aa61', 'aa62', 'aa63', 'aa64', 'aa65', 'aa66', 'ab11', 'ab12', 'ab13', 'ab14', 'ab15', 'ab16', 'ab21', 'ab22', 'ab23', 'ab24', 'ab25', 'ab26', 'ab31', 'ab32', 'ab33', 'ab34', 'ab35', 'ab36', 'ab41', 'ab42', 'ab43', 'ab44', 'ab45', 'ab46', 'ab51', 'ab52', 'ab53', 'ab54', 'ab55', 'ab56', 'ab61', 'ab62', 'ab63', 'ab64', 'ab65', 'ab66', 'ac11', 'ac12', 'ac13', 'ac14', 'ac15', 'ac16', 'ac21', 'ac22', 'ac23', 'ac24', 'ac25', 'ac26', 'ac31', 'ac32', 'ac33', 'ac34', 'ac35', 'ac36', 'ac41', 'ac42', 'ac43', 'ac44', 'ac45', 'ac46', 'ac51', 'ac52', 'ac53', 'ac54', 'ac55', 'ac56', 'ac61', 'ac62', 'ac63', 'ac64', 'ac65', 'ac66', 'ad11', 'ad12', 'ad13', 'ad14', 'ad15', 'ad16', 'ad21', 'ad22', 'ad23', 'ad24', 'ad25', 'ad26', 'ad31', 'ad32', 'ad33', 'ad34', 'ad35', 'ad36', 'ad41', 'ad42', 'ad43', 'ad44', 'ad45', 'ad46', 'ad51', 'ad52', 'ad53', 'ad54', 'ad55', 'ad56', 'ad61', 'ad62', 'ad63', 'ad64', 'ad65', 'ad66', 'ae11', 'ae12', 'ae13', 'ae14', 'ae15', 'ae16', 'ae21', 'ae22', 'ae23', 'ae24', 'ae25', 'ae26', 'ae31', 'ae32', 'ae33', 'ae34', 'ae35', 'ae36', 'ae41', 'ae42', 'ae43', 'ae44', 'ae45', 'ae46', 'ae51', 'ae52', 'ae53', 'ae54', 'ae55', 'ae56', 'ae61', 'ae62', 'ae63', 'ae64', 'ae65', 'ae66', 'af11', 'af12', 'af13', 'af14', 'af15', 'af16', 'af21', 'af22', 'af23', 'af24', 'af25', 'af26', 'af31', 'af32', 'af33', 'af34', 'af35', 'af36', 'af41', 'af42', 'af43', 'af44', 'af45', 'af46', 'af51', 'af52', 'af53', 'af54', 'af55', 'af56', 'af61', 'af62', 'af63', 'af64', 'af65', 'af66', 'ba11', 'ba12', 'ba13', 'ba14', 'ba15', 'ba16', 'ba21', 'ba22', 'ba23', 'ba24', 'ba25', 'ba26', 'ba31', 'ba32', 'ba33', 'ba34', 'ba35', 'ba36', 'ba41', 'ba42', 'ba43', 'ba44', 'ba45', 'ba46', 'ba51', 'ba52', 'ba53', 'ba54', 'ba55', 'ba56', 'ba61', 'ba62', 'ba63', 'ba64', 'ba65', 'ba66', 'bb11', 'bb12', 'bb13', 'bb14', 'bb15', 'bb16', 'bb21', 'bb22', 'bb23', 'bb24', 'bb25', 'bb26', 'bb31', 'bb32', 'bb33', 'bb34', 'bb35', 'bb36', 'bb41', 'bb42', 'bb43', 'bb44', 'bb45', 'bb46', 'bb51', 'bb52', 'bb53', 'bb54', 'bb55', 'bb56', 'bb61', 'bb62', 'bb63', 'bb64', 'bb65', 'bb66', 'bc11', 'bc12', 'bc13', 'bc14', 'bc15', 'bc16', 'bc21', 'bc22', 'bc23', 'bc24', 'bc25', 'bc26', 'bc31', 'bc32', 'bc33', 'bc34', 'bc35', 'bc36', 'bc41', 'bc42', 'bc43', 'bc44', 'bc45', 'bc46', 'bc51', 'bc52', 'bc53', 'bc54', 'bc55', 'bc56', 'bc61', 'bc62', 'bc63', 'bc64', 'bc65', 'bc66', 'bd11', 'bd12', 'bd13', 'bd14', 'bd15', 'bd16', 'bd21', 'bd22', 'bd23', 'bd24', 'bd25', 'bd26', 'bd31', 'bd32', 'bd33', 'bd34', 'bd35', 'bd36', 'bd41', 'bd42', 'bd43', 'bd44', 'bd45', 'bd46', 'bd51', 'bd52', 'bd53', 'bd54', 'bd55', 'bd56', 'bd61', 'bd62', 'bd63', 'bd64', 'bd65', 'bd66', 'be11', 'be12', 'be13', 'be14', 'be15', 'be16', 'be21', 'be22', 'be23', 'be24', 'be25', 'be26', 'be31', 'be32', 'be33', 'be34', 'be35', 'be36', 'be41', 'be42', 'be43', 'be44', 'be45', 'be46', 'be51', 'be52', 'be53', 'be54', 'be55', 'be56', 'be61', 'be62', 'be63', 'be64', 'be65', 'be66', 'bf11', 'bf12', 'bf13', 'bf14', 'bf15', 'bf16', 'bf21', 'bf22', 'bf23', 'bf24', 'bf25', 'bf26', 'bf31', 'bf32', 'bf33', 'bf34', 'bf35', 'bf36', 'bf41', 'bf42', 'bf43', 'bf44', 'bf45', 'bf46', 'bf51', 'bf52', 'bf53', 'bf54', 'bf55', 'bf56', 'bf61', 'bf62', 'bf63', 'bf64', 'bf65', 'bf66', 'ca11', 'ca12', 'ca13', 'ca14', 'ca15', 'ca16', 'ca21', 'ca22', 'ca23', 'ca24', 'ca25', 'ca26', 'ca31', 'ca32', 'ca33', 'ca34', 'ca35', 'ca36', 'ca41', 'ca42', 'ca43', 'ca44', 'ca45', 'ca46', 'ca51', 'ca52', 'ca53', 'ca54', 'ca55', 'ca56', 'ca61', 'ca62', 'ca63', 'ca64', 'ca65', 'ca66', 'cb11', 'cb12', 'cb13', 'cb14', 'cb15', 'cb16', 'cb21', 'cb22', 'cb23', 'cb24', 'cb25', 'cb26', 'cb31', 'cb32', 'cb33', 'cb34', 'cb35', 'cb36', 'cb41', 'cb42', 'cb43', 'cb44', 'cb45', 'cb46', 'cb51', 'cb52', 'cb53', 'cb54', 'cb55', 'cb56', 'cb61', 'cb62', 'cb63', 'cb64', 'cb65', 'cb66', 'cc11', 'cc12', 'cc13', 'cc14', 'cc15', 'cc16', 'cc21', 'cc22', 'cc23', 'cc24', 'cc25', 'cc26', 'cc31', 'cc32', 'cc33', 'cc34', 'cc35', 'cc36', 'cc41', 'cc42', 'cc43', 'cc44', 'cc45', 'cc46', 'cc51', 'cc52', 'cc53', 'cc54', 'cc55', 'cc56', 'cc61', 'cc62', 'cc63', 'cc64', 'cc65', 'cc66', 'cd11', 'cd12', 'cd13', 'cd14', 'cd15', 'cd16', 'cd21', 'cd22', 'cd23', 'cd24', 'cd25', 'cd26', 'cd31', 'cd32', 'cd33', 'cd34', 'cd35', 'cd36', 'cd41', 'cd42', 'cd43', 'cd44', 'cd45', 'cd46', 'cd51', 'cd52', 'cd53', 'cd54', 'cd55', 'cd56', 'cd61', 'cd62', 'cd63', 'cd64', 'cd65', 'cd66', 'ce11', 'ce12', 'ce13', 'ce14', 'ce15', 'ce16', 'ce21', 'ce22', 'ce23', 'ce24', 'ce25', 'ce26', 'ce31', 'ce32', 'ce33', 'ce34', 'ce35', 'ce36', 'ce41', 'ce42', 'ce43', 'ce44', 'ce45', 'ce46', 'ce51', 'ce52', 'ce53', 'ce54', 'ce55', 'ce56', 'ce61', 'ce62', 'ce63', 'ce64', 'ce65', 'ce66', 'cf11', 'cf12', 'cf13', 'cf14', 'cf15', 'cf16', 'cf21', 'cf22', 'cf23', 'cf24', 'cf25', 'cf26', 'cf31', 'cf32', 'cf33', 'cf34', 'cf35', 'cf36', 'cf41', 'cf42', 'cf43', 'cf44', 'cf45', 'cf46', 'cf51', 'cf52', 'cf53', 'cf54', 'cf55', 'cf56', 'cf61', 'cf62', 'cf63', 'cf64', 'cf65', 'cf66', 'da11', 'da12', 'da13', 'da14', 'da15', 'da16', 'da21', 'da22', 'da23', 'da24', 'da25', 'da26', 'da31', 'da32', 'da33', 'da34', 'da35', 'da36', 'da41', 'da42', 'da43', 'da44', 'da45', 'da46', 'da51', 'da52', 'da53', 'da54', 'da55', 'da56', 'da61', 'da62', 'da63', 'da64', 'da65', 'da66', 'db11', 'db12', 'db13', 'db14', 'db15', 'db16', 'db21', 'db22', 'db23', 'db24', 'db25', 'db26', 'db31', 'db32', 'db33', 'db34', 'db35', 'db36', 'db41', 'db42', 'db43', 'db44', 'db45', 'db46', 'db51', 'db52', 'db53', 'db54', 'db55', 'db56', 'db61', 'db62', 'db63', 'db64', 'db65', 'db66', 'dc11', 'dc12', 'dc13', 'dc14', 'dc15', 'dc16', 'dc21', 'dc22', 'dc23', 'dc24', 'dc25', 'dc26', 'dc31', 'dc32', 'dc33', 'dc34', 'dc35', 'dc36', 'dc41', 'dc42', 'dc43', 'dc44', 'dc45', 'dc46', 'dc51', 'dc52', 'dc53', 'dc54', 'dc55', 'dc56', 'dc61', 'dc62', 'dc63', 'dc64', 'dc65', 'dc66', 'dd11', 'dd12', 'dd13', 'dd14', 'dd15', 'dd16', 'dd21', 'dd22', 'dd23', 'dd24', 'dd25', 'dd26', 'dd31', 'dd32', 'dd33', 'dd34', 'dd35', 'dd36', 'dd41', 'dd42', 'dd43', 'dd44', 'dd45', 'dd46', 'dd51', 'dd52', 'dd53', 'dd54', 'dd55', 'dd56', 'dd61', 'dd62', 'dd63', 'dd64', 'dd65', 'dd66', 'de11', 'de12', 'de13', 'de14', 'de15', 'de16', 'de21', 'de22', 'de23', 'de24', 'de25', 'de26', 'de31', 'de32', 'de33', 'de34', 'de35', 'de36', 'de41', 'de42', 'de43', 'de44', 'de45', 'de46', 'de51', 'de52', 'de53', 'de54', 'de55', 'de56', 'de61', 'de62', 'de63', 'de64', 'de65', 'de66', 'df11', 'df12', 'df13', 'df14', 'df15', 'df16', 'df21', 'df22', 'df23', 'df24', 'df25', 'df26', 'df31', 'df32', 'df33', 'df34', 'df35', 'df36', 'df41', 'df42', 'df43', 'df44', 'df45', 'df46', 'df51', 'df52', 'df53', 'df54', 'df55', 'df56', 'df61', 'df62', 'df63', 'df64', 'df65', 'df66', 'ea11', 'ea12', 'ea13', 'ea14', 'ea15', 'ea16', 'ea21', 'ea22', 'ea23', 'ea24', 'ea25', 'ea26', 'ea31', 'ea32', 'ea33', 'ea34', 'ea35', 'ea36', 'ea41', 'ea42', 'ea43', 'ea44', 'ea45', 'ea46', 'ea51', 'ea52', 'ea53', 'ea54', 'ea55', 'ea56', 'ea61', 'ea62', 'ea63', 'ea64', 'ea65', 'ea66', 'eb11', 'eb12', 'eb13', 'eb14', 'eb15', 'eb16', 'eb21', 'eb22', 'eb23', 'eb24', 'eb25', 'eb26', 'eb31', 'eb32', 'eb33', 'eb34', 'eb35', 'eb36', 'eb41', 'eb42', 'eb43', 'eb44', 'eb45', 'eb46', 'eb51', 'eb52', 'eb53', 'eb54', 'eb55', 'eb56', 'eb61', 'eb62', 'eb63', 'eb64', 'eb65', 'eb66', 'ec11', 'ec12', 'ec13', 'ec14', 'ec15', 'ec16', 'ec21', 'ec22', 'ec23', 'ec24', 'ec25', 'ec26', 'ec31', 'ec32', 'ec33', 'ec34', 'ec35', 'ec36', 'ec41', 'ec42', 'ec43', 'ec44', 'ec45', 'ec46', 'ec51', 'ec52', 'ec53', 'ec54', 'ec55', 'ec56', 'ec61', 'ec62', 'ec63', 'ec64', 'ec65', 'ec66', 'ed11', 'ed12', 'ed13', 'ed14', 'ed15', 'ed16', 'ed21', 'ed22', 'ed23', 'ed24', 'ed25', 'ed26', 'ed31', 'ed32', 'ed33', 'ed34', 'ed35', 'ed36', 'ed41', 'ed42', 'ed43', 'ed44', 'ed45', 'ed46', 'ed51', 'ed52', 'ed53', 'ed54', 'ed55', 'ed56', 'ed61', 'ed62', 'ed63', 'ed64', 'ed65', 'ed66', 'ee11', 'ee12', 'ee13', 'ee14', 'ee15', 'ee16', 'ee21', 'ee22', 'ee23', 'ee24', 'ee25', 'ee26', 'ee31', 'ee32', 'ee33', 'ee34', 'ee35', 'ee36', 'ee41', 'ee42', 'ee43', 'ee44', 'ee45', 'ee46', 'ee51', 'ee52', 'ee53', 'ee54', 'ee55', 'ee56', 'ee61', 'ee62', 'ee63', 'ee64', 'ee65', 'ee66', 'ef11', 'ef12', 'ef13', 'ef14', 'ef15', 'ef16', 'ef21', 'ef22', 'ef23', 'ef24', 'ef25', 'ef26', 'ef31', 'ef32', 'ef33', 'ef34', 'ef35', 'ef36', 'ef41', 'ef42', 'ef43', 'ef44', 'ef45', 'ef46', 'ef51', 'ef52', 'ef53', 'ef54', 'ef55', 'ef56', 'ef61', 'ef62', 'ef63', 'ef64', 'ef65', 'ef66', 'fa11', 'fa12', 'fa13', 'fa14', 'fa15', 'fa16', 'fa21', 'fa22', 'fa23', 'fa24', 'fa25', 'fa26', 'fa31', 'fa32', 'fa33', 'fa34', 'fa35', 'fa36', 'fa41', 'fa42', 'fa43', 'fa44', 'fa45', 'fa46', 'fa51', 'fa52', 'fa53', 'fa54', 'fa55', 'fa56', 'fa61', 'fa62', 'fa63', 'fa64', 'fa65', 'fa66', 'fb11', 'fb12', 'fb13', 'fb14', 'fb15', 'fb16', 'fb21', 'fb22', 'fb23', 'fb24', 'fb25', 'fb26', 'fb31', 'fb32', 'fb33', 'fb34', 'fb35', 'fb36', 'fb41', 'fb42', 'fb43', 'fb44', 'fb45', 'fb46', 'fb51', 'fb52', 'fb53', 'fb54', 'fb55', 'fb56', 'fb61', 'fb62', 'fb63', 'fb64', 'fb65', 'fb66', 'fc11', 'fc12', 'fc13', 'fc14', 'fc15', 'fc16', 'fc21', 'fc22', 'fc23', 'fc24', 'fc25', 'fc26', 'fc31', 'fc32', 'fc33', 'fc34', 'fc35', 'fc36', 'fc41', 'fc42', 'fc43', 'fc44', 'fc45', 'fc46', 'fc51', 'fc52', 'fc53', 'fc54', 'fc55', 'fc56', 'fc61', 'fc62', 'fc63', 'fc64', 'fc65', 'fc66', 'fd11', 'fd12', 'fd13', 'fd14', 'fd15', 'fd16', 'fd21', 'fd22', 'fd23', 'fd24', 'fd25', 'fd26', 'fd31', 'fd32', 'fd33', 'fd34', 'fd35', 'fd36', 'fd41', 'fd42', 'fd43', 'fd44', 'fd45', 'fd46', 'fd51', 'fd52', 'fd53', 'fd54', 'fd55', 'fd56', 'fd61', 'fd62', 'fd63', 'fd64', 'fd65', 'fd66', 'fe11', 'fe12', 'fe13', 'fe14', 'fe15', 'fe16', 'fe21', 'fe22', 'fe23', 'fe24', 'fe25', 'fe26', 'fe31', 'fe32', 'fe33', 'fe34', 'fe35', 'fe36', 'fe41', 'fe42', 'fe43', 'fe44', 'fe45', 'fe46', 'fe51', 'fe52', 'fe53', 'fe54', 'fe55', 'fe56', 'fe61', 'fe62', 'fe63', 'fe64', 'fe65', 'fe66', 'ff11', 'ff12', 'ff13', 'ff14', 'ff15', 'ff16', 'ff21', 'ff22', 'ff23', 'ff24', 'ff25', 'ff26', 'ff31', 'ff32', 'ff33', 'ff34', 'ff35', 'ff36', 'ff41', 'ff42', 'ff43', 'ff44', 'ff45', 'ff46', 'ff51', 'ff52', 'ff53', 'ff54', 'ff55', 'ff56', 'ff61', 'ff62', 'ff63', 'ff64', 'ff65', 'ff66']\n"
          ],
          "name": "stdout"
        }
      ]
    },
    {
      "cell_type": "markdown",
      "metadata": {
        "id": "_dgJzl5PmraH",
        "colab_type": "text"
      },
      "source": [
        "**NumPy**"
      ]
    },
    {
      "cell_type": "code",
      "metadata": {
        "id": "nfDgKLWrmupN",
        "colab_type": "code",
        "colab": {}
      },
      "source": [
        "import numpy as np"
      ],
      "execution_count": 6,
      "outputs": []
    },
    {
      "cell_type": "code",
      "metadata": {
        "id": "Qy3Wsq5km0BX",
        "colab_type": "code",
        "colab": {
          "base_uri": "https://localhost:8080/",
          "height": 34
        },
        "outputId": "06544858-c42f-458b-eedf-082d42aa4961"
      },
      "source": [
        "mylist = [1, 2, 3]\n",
        "x = np.array(mylist)\n",
        "x"
      ],
      "execution_count": 7,
      "outputs": [
        {
          "output_type": "execute_result",
          "data": {
            "text/plain": [
              "array([1, 2, 3])"
            ]
          },
          "metadata": {
            "tags": []
          },
          "execution_count": 7
        }
      ]
    },
    {
      "cell_type": "code",
      "metadata": {
        "id": "V27dB9flm5vj",
        "colab_type": "code",
        "colab": {
          "base_uri": "https://localhost:8080/",
          "height": 51
        },
        "outputId": "02be2bb6-5523-4f9b-b7ae-5a658900f774"
      },
      "source": [
        "m = np.array([[7, 8, 9], [10, 11, 12]])\n",
        "m"
      ],
      "execution_count": 8,
      "outputs": [
        {
          "output_type": "execute_result",
          "data": {
            "text/plain": [
              "array([[ 7,  8,  9],\n",
              "       [10, 11, 12]])"
            ]
          },
          "metadata": {
            "tags": []
          },
          "execution_count": 8
        }
      ]
    },
    {
      "cell_type": "code",
      "metadata": {
        "id": "681KvYqMm9RT",
        "colab_type": "code",
        "colab": {
          "base_uri": "https://localhost:8080/",
          "height": 34
        },
        "outputId": "06411e82-2647-4d31-ca7c-9f094ad138f4"
      },
      "source": [
        "m.shape"
      ],
      "execution_count": 9,
      "outputs": [
        {
          "output_type": "execute_result",
          "data": {
            "text/plain": [
              "(2, 3)"
            ]
          },
          "metadata": {
            "tags": []
          },
          "execution_count": 9
        }
      ]
    },
    {
      "cell_type": "code",
      "metadata": {
        "id": "8C-zgJp-nCtl",
        "colab_type": "code",
        "colab": {
          "base_uri": "https://localhost:8080/",
          "height": 34
        },
        "outputId": "1066fc06-623e-4c51-9cd8-52710d2d10c9"
      },
      "source": [
        "n = np.arange(0, 30, 2) # start at 0 count up by 2, stop before 30\n",
        "print(n)"
      ],
      "execution_count": 11,
      "outputs": [
        {
          "output_type": "stream",
          "text": [
            "[ 0  2  4  6  8 10 12 14 16 18 20 22 24 26 28]\n"
          ],
          "name": "stdout"
        }
      ]
    },
    {
      "cell_type": "code",
      "metadata": {
        "id": "L5IEp3x5nMnT",
        "colab_type": "code",
        "colab": {
          "base_uri": "https://localhost:8080/",
          "height": 68
        },
        "outputId": "1fca8446-063a-43e5-d6b7-ea7c0d8bd246"
      },
      "source": [
        "n = n.reshape(3, 5) # reshape array to be 3x5\n",
        "n"
      ],
      "execution_count": 14,
      "outputs": [
        {
          "output_type": "execute_result",
          "data": {
            "text/plain": [
              "array([[ 0,  2,  4,  6,  8],\n",
              "       [10, 12, 14, 16, 18],\n",
              "       [20, 22, 24, 26, 28]])"
            ]
          },
          "metadata": {
            "tags": []
          },
          "execution_count": 14
        }
      ]
    },
    {
      "cell_type": "code",
      "metadata": {
        "id": "j_G2sDJwnX0v",
        "colab_type": "code",
        "colab": {
          "base_uri": "https://localhost:8080/",
          "height": 34
        },
        "outputId": "755e4351-becf-4f1a-c09b-ac0ec667bce9"
      },
      "source": [
        "o = np.linspace(0, 4, 9) # return 9 evenly spaced values from 0 to 4\n",
        "o"
      ],
      "execution_count": 15,
      "outputs": [
        {
          "output_type": "execute_result",
          "data": {
            "text/plain": [
              "array([0. , 0.5, 1. , 1.5, 2. , 2.5, 3. , 3.5, 4. ])"
            ]
          },
          "metadata": {
            "tags": []
          },
          "execution_count": 15
        }
      ]
    },
    {
      "cell_type": "code",
      "metadata": {
        "id": "nafn279vncco",
        "colab_type": "code",
        "colab": {
          "base_uri": "https://localhost:8080/",
          "height": 68
        },
        "outputId": "07d3db3c-aace-40ab-c3c6-c6f60ed74e5e"
      },
      "source": [
        "np.ones((3, 2))"
      ],
      "execution_count": 16,
      "outputs": [
        {
          "output_type": "execute_result",
          "data": {
            "text/plain": [
              "array([[1., 1.],\n",
              "       [1., 1.],\n",
              "       [1., 1.]])"
            ]
          },
          "metadata": {
            "tags": []
          },
          "execution_count": 16
        }
      ]
    },
    {
      "cell_type": "code",
      "metadata": {
        "id": "Dzr29LYcnhZh",
        "colab_type": "code",
        "colab": {
          "base_uri": "https://localhost:8080/",
          "height": 51
        },
        "outputId": "f6e649bd-604d-49a7-bbde-458c23c707d3"
      },
      "source": [
        "np.zeros((2, 3))"
      ],
      "execution_count": 17,
      "outputs": [
        {
          "output_type": "execute_result",
          "data": {
            "text/plain": [
              "array([[0., 0., 0.],\n",
              "       [0., 0., 0.]])"
            ]
          },
          "metadata": {
            "tags": []
          },
          "execution_count": 17
        }
      ]
    },
    {
      "cell_type": "code",
      "metadata": {
        "id": "uZHy_cuWoCOO",
        "colab_type": "code",
        "colab": {
          "base_uri": "https://localhost:8080/",
          "height": 51
        },
        "outputId": "97cd905f-68ae-4b05-a8a5-f2c5d13b8327"
      },
      "source": [
        "p = np.ones([2, 3], int)\n",
        "p"
      ],
      "execution_count": 19,
      "outputs": [
        {
          "output_type": "execute_result",
          "data": {
            "text/plain": [
              "array([[1, 1, 1],\n",
              "       [1, 1, 1]])"
            ]
          },
          "metadata": {
            "tags": []
          },
          "execution_count": 19
        }
      ]
    },
    {
      "cell_type": "code",
      "metadata": {
        "id": "qzviwNyYoGcx",
        "colab_type": "code",
        "colab": {
          "base_uri": "https://localhost:8080/",
          "height": 85
        },
        "outputId": "42a10ae8-0f50-4ef0-9b1d-b68d07717bb1"
      },
      "source": [
        "np.vstack([p, 2*p])"
      ],
      "execution_count": 20,
      "outputs": [
        {
          "output_type": "execute_result",
          "data": {
            "text/plain": [
              "array([[1, 1, 1],\n",
              "       [1, 1, 1],\n",
              "       [2, 2, 2],\n",
              "       [2, 2, 2]])"
            ]
          },
          "metadata": {
            "tags": []
          },
          "execution_count": 20
        }
      ]
    },
    {
      "cell_type": "code",
      "metadata": {
        "id": "99JjNcE1oKqA",
        "colab_type": "code",
        "colab": {
          "base_uri": "https://localhost:8080/",
          "height": 51
        },
        "outputId": "f3bca04d-0b65-4584-b640-bbc1898afeb2"
      },
      "source": [
        "np.hstack([p, 2*p])"
      ],
      "execution_count": 21,
      "outputs": [
        {
          "output_type": "execute_result",
          "data": {
            "text/plain": [
              "array([[1, 1, 1, 2, 2, 2],\n",
              "       [1, 1, 1, 2, 2, 2]])"
            ]
          },
          "metadata": {
            "tags": []
          },
          "execution_count": 21
        }
      ]
    },
    {
      "cell_type": "markdown",
      "metadata": {
        "id": "KRuHaVLsps2Q",
        "colab_type": "text"
      },
      "source": [
        "**Indexing / Slicing**"
      ]
    },
    {
      "cell_type": "code",
      "metadata": {
        "id": "q7-SfWySpxx3",
        "colab_type": "code",
        "colab": {
          "base_uri": "https://localhost:8080/",
          "height": 51
        },
        "outputId": "31ed45dc-51c2-40da-a7a3-c1e7db655519"
      },
      "source": [
        "s = np.arange(13)**2\n",
        "s\n",
        "\n",
        "print(s[-4:])\n",
        "\n",
        "print(s[-5::-2])"
      ],
      "execution_count": 23,
      "outputs": [
        {
          "output_type": "stream",
          "text": [
            "[ 81 100 121 144]\n",
            "[64 36 16  4  0]\n"
          ],
          "name": "stdout"
        }
      ]
    },
    {
      "cell_type": "code",
      "metadata": {
        "id": "kIOWCKCaqEDs",
        "colab_type": "code",
        "colab": {
          "base_uri": "https://localhost:8080/",
          "height": 119
        },
        "outputId": "eed5281a-a26e-438b-8371-dae5699e6352"
      },
      "source": [
        "r = np.arange(36)\n",
        "r.resize((6, 6))\n",
        "r"
      ],
      "execution_count": 24,
      "outputs": [
        {
          "output_type": "execute_result",
          "data": {
            "text/plain": [
              "array([[ 0,  1,  2,  3,  4,  5],\n",
              "       [ 6,  7,  8,  9, 10, 11],\n",
              "       [12, 13, 14, 15, 16, 17],\n",
              "       [18, 19, 20, 21, 22, 23],\n",
              "       [24, 25, 26, 27, 28, 29],\n",
              "       [30, 31, 32, 33, 34, 35]])"
            ]
          },
          "metadata": {
            "tags": []
          },
          "execution_count": 24
        }
      ]
    },
    {
      "cell_type": "code",
      "metadata": {
        "id": "wVnJHR_6qGgb",
        "colab_type": "code",
        "colab": {
          "base_uri": "https://localhost:8080/",
          "height": 34
        },
        "outputId": "f44b2010-8f65-4db1-cefe-ca057cec5f38"
      },
      "source": [
        "r[3, 3:6]"
      ],
      "execution_count": 25,
      "outputs": [
        {
          "output_type": "execute_result",
          "data": {
            "text/plain": [
              "array([21, 22, 23])"
            ]
          },
          "metadata": {
            "tags": []
          },
          "execution_count": 25
        }
      ]
    }
  ]
}