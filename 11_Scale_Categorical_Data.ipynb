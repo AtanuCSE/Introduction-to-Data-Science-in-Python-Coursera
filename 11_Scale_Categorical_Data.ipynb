{
  "nbformat": 4,
  "nbformat_minor": 0,
  "metadata": {
    "colab": {
      "name": "11_Scale_Categorical_Data.ipynb",
      "provenance": [],
      "collapsed_sections": [],
      "toc_visible": true
    },
    "kernelspec": {
      "name": "python3",
      "display_name": "Python 3"
    }
  },
  "cells": [
    {
      "cell_type": "markdown",
      "metadata": {
        "id": "wKDjAqoQL9Ye",
        "colab_type": "text"
      },
      "source": [
        "# **Pandas DataFrame Scale Categorical Data**\n",
        "___\n",
        "___\n"
      ]
    },
    {
      "cell_type": "markdown",
      "metadata": {
        "id": "eNOK4w6HMBfR",
        "colab_type": "text"
      },
      "source": [
        "***Topics***\n",
        "\n",
        "*   Define Own Category on Columns Data\n",
        "    - (Example: A+ is higher than A)\n",
        "    - Usage of Categorical Data\n",
        "*   **CUT Fuction**\n",
        "    - Divide data into several bin like histogram"
      ]
    },
    {
      "cell_type": "code",
      "metadata": {
        "id": "yBbU99BJMWyo",
        "colab_type": "code",
        "colab": {}
      },
      "source": [
        "import pandas as pd\n"
      ],
      "execution_count": 2,
      "outputs": []
    },
    {
      "cell_type": "code",
      "metadata": {
        "id": "yj15wSPaLq_H",
        "colab_type": "code",
        "colab": {
          "base_uri": "https://localhost:8080/",
          "height": 390
        },
        "outputId": "b863a11f-6b99-4f68-d265-8ea6414864cb"
      },
      "source": [
        "df = pd.DataFrame(['A+', 'A', 'A-', 'B+', 'B', 'B-', 'C+', 'C', 'C-', 'D+', 'D'],\n",
        "                  index=['excellent', 'excellent', 'excellent', 'good', 'good', 'good', 'ok', 'ok', 'ok', 'poor', 'poor'])\n",
        "df.rename(columns={0: 'Grades'}, inplace=True)\n",
        "df"
      ],
      "execution_count": 4,
      "outputs": [
        {
          "output_type": "execute_result",
          "data": {
            "text/html": [
              "<div>\n",
              "<style scoped>\n",
              "    .dataframe tbody tr th:only-of-type {\n",
              "        vertical-align: middle;\n",
              "    }\n",
              "\n",
              "    .dataframe tbody tr th {\n",
              "        vertical-align: top;\n",
              "    }\n",
              "\n",
              "    .dataframe thead th {\n",
              "        text-align: right;\n",
              "    }\n",
              "</style>\n",
              "<table border=\"1\" class=\"dataframe\">\n",
              "  <thead>\n",
              "    <tr style=\"text-align: right;\">\n",
              "      <th></th>\n",
              "      <th>Grades</th>\n",
              "    </tr>\n",
              "  </thead>\n",
              "  <tbody>\n",
              "    <tr>\n",
              "      <th>excellent</th>\n",
              "      <td>A+</td>\n",
              "    </tr>\n",
              "    <tr>\n",
              "      <th>excellent</th>\n",
              "      <td>A</td>\n",
              "    </tr>\n",
              "    <tr>\n",
              "      <th>excellent</th>\n",
              "      <td>A-</td>\n",
              "    </tr>\n",
              "    <tr>\n",
              "      <th>good</th>\n",
              "      <td>B+</td>\n",
              "    </tr>\n",
              "    <tr>\n",
              "      <th>good</th>\n",
              "      <td>B</td>\n",
              "    </tr>\n",
              "    <tr>\n",
              "      <th>good</th>\n",
              "      <td>B-</td>\n",
              "    </tr>\n",
              "    <tr>\n",
              "      <th>ok</th>\n",
              "      <td>C+</td>\n",
              "    </tr>\n",
              "    <tr>\n",
              "      <th>ok</th>\n",
              "      <td>C</td>\n",
              "    </tr>\n",
              "    <tr>\n",
              "      <th>ok</th>\n",
              "      <td>C-</td>\n",
              "    </tr>\n",
              "    <tr>\n",
              "      <th>poor</th>\n",
              "      <td>D+</td>\n",
              "    </tr>\n",
              "    <tr>\n",
              "      <th>poor</th>\n",
              "      <td>D</td>\n",
              "    </tr>\n",
              "  </tbody>\n",
              "</table>\n",
              "</div>"
            ],
            "text/plain": [
              "          Grades\n",
              "excellent     A+\n",
              "excellent      A\n",
              "excellent     A-\n",
              "good          B+\n",
              "good           B\n",
              "good          B-\n",
              "ok            C+\n",
              "ok             C\n",
              "ok            C-\n",
              "poor          D+\n",
              "poor           D"
            ]
          },
          "metadata": {
            "tags": []
          },
          "execution_count": 4
        }
      ]
    },
    {
      "cell_type": "code",
      "metadata": {
        "id": "GdBCgl4pMaJS",
        "colab_type": "code",
        "colab": {
          "base_uri": "https://localhost:8080/",
          "height": 136
        },
        "outputId": "20f1bd9e-a098-4c55-b636-ebe238827c2b"
      },
      "source": [
        "#Default\n",
        "df['Grades'].astype('category').head()"
      ],
      "execution_count": 5,
      "outputs": [
        {
          "output_type": "execute_result",
          "data": {
            "text/plain": [
              "excellent    A+\n",
              "excellent     A\n",
              "excellent    A-\n",
              "good         B+\n",
              "good          B\n",
              "Name: Grades, dtype: category\n",
              "Categories (11, object): [A, A+, A-, B, ..., C+, C-, D, D+]"
            ]
          },
          "metadata": {
            "tags": []
          },
          "execution_count": 5
        }
      ]
    },
    {
      "cell_type": "code",
      "metadata": {
        "id": "UkXlNeHhMjGB",
        "colab_type": "code",
        "colab": {
          "base_uri": "https://localhost:8080/",
          "height": 68
        },
        "outputId": "4516e3ab-2056-48f8-c92a-a25ec4f75acd"
      },
      "source": [
        "#Customize\n",
        "myCategory = ['D', 'D+', 'C-', 'C', 'C+', 'B-', 'B', 'B+', 'A-', 'A', 'A+']\n",
        "grades = pd.Categorical(df['Grades'], categories=myCategory, ordered=True)\n",
        "                             \n",
        "grades"
      ],
      "execution_count": 8,
      "outputs": [
        {
          "output_type": "execute_result",
          "data": {
            "text/plain": [
              "[A+, A, A-, B+, B, ..., C+, C, C-, D+, D]\n",
              "Length: 11\n",
              "Categories (11, object): [D < D+ < C- < C ... B+ < A- < A < A+]"
            ]
          },
          "metadata": {
            "tags": []
          },
          "execution_count": 8
        }
      ]
    },
    {
      "cell_type": "markdown",
      "metadata": {
        "id": "EgIbX8F-OSlC",
        "colab_type": "text"
      },
      "source": [
        "**Usage of Categorical Data**"
      ]
    },
    {
      "cell_type": "code",
      "metadata": {
        "id": "qXlMk68bOZaq",
        "colab_type": "code",
        "colab": {
          "base_uri": "https://localhost:8080/",
          "height": 51
        },
        "outputId": "85406426-3b2c-4cdf-8bb0-9029aec04f77"
      },
      "source": [
        "grades > 'B'"
      ],
      "execution_count": 10,
      "outputs": [
        {
          "output_type": "execute_result",
          "data": {
            "text/plain": [
              "array([ True,  True,  True,  True, False, False, False, False, False,\n",
              "       False, False])"
            ]
          },
          "metadata": {
            "tags": []
          },
          "execution_count": 10
        }
      ]
    },
    {
      "cell_type": "code",
      "metadata": {
        "id": "0QoFrrTYOrR0",
        "colab_type": "code",
        "colab": {
          "base_uri": "https://localhost:8080/",
          "height": 204
        },
        "outputId": "4eb51355-d3e4-4fe6-bf3c-ef3ecda9e0d7"
      },
      "source": [
        "df['Custom Result'] = grades > 'B'\n",
        "df.head()"
      ],
      "execution_count": 11,
      "outputs": [
        {
          "output_type": "execute_result",
          "data": {
            "text/html": [
              "<div>\n",
              "<style scoped>\n",
              "    .dataframe tbody tr th:only-of-type {\n",
              "        vertical-align: middle;\n",
              "    }\n",
              "\n",
              "    .dataframe tbody tr th {\n",
              "        vertical-align: top;\n",
              "    }\n",
              "\n",
              "    .dataframe thead th {\n",
              "        text-align: right;\n",
              "    }\n",
              "</style>\n",
              "<table border=\"1\" class=\"dataframe\">\n",
              "  <thead>\n",
              "    <tr style=\"text-align: right;\">\n",
              "      <th></th>\n",
              "      <th>Grades</th>\n",
              "      <th>Custom Result</th>\n",
              "    </tr>\n",
              "  </thead>\n",
              "  <tbody>\n",
              "    <tr>\n",
              "      <th>excellent</th>\n",
              "      <td>A+</td>\n",
              "      <td>True</td>\n",
              "    </tr>\n",
              "    <tr>\n",
              "      <th>excellent</th>\n",
              "      <td>A</td>\n",
              "      <td>True</td>\n",
              "    </tr>\n",
              "    <tr>\n",
              "      <th>excellent</th>\n",
              "      <td>A-</td>\n",
              "      <td>True</td>\n",
              "    </tr>\n",
              "    <tr>\n",
              "      <th>good</th>\n",
              "      <td>B+</td>\n",
              "      <td>True</td>\n",
              "    </tr>\n",
              "    <tr>\n",
              "      <th>good</th>\n",
              "      <td>B</td>\n",
              "      <td>False</td>\n",
              "    </tr>\n",
              "  </tbody>\n",
              "</table>\n",
              "</div>"
            ],
            "text/plain": [
              "          Grades  Custom Result\n",
              "excellent     A+           True\n",
              "excellent      A           True\n",
              "excellent     A-           True\n",
              "good          B+           True\n",
              "good           B          False"
            ]
          },
          "metadata": {
            "tags": []
          },
          "execution_count": 11
        }
      ]
    },
    {
      "cell_type": "markdown",
      "metadata": {
        "id": "AIDPm2e6PnrX",
        "colab_type": "text"
      },
      "source": [
        "**CUT Fuction**\n",
        "\n",
        "- Divide data into several bin like histogram"
      ]
    },
    {
      "cell_type": "code",
      "metadata": {
        "id": "T-jcRTjoPlI-",
        "colab_type": "code",
        "colab": {
          "base_uri": "https://localhost:8080/",
          "height": 289
        },
        "outputId": "e92cf51d-6960-42f7-bc03-f115e06dae59"
      },
      "source": [
        "s = pd.Series([168, 180, 174, 190, 170, 185, 179, 181, 175, 169, 182, 177, 180, 171])\n",
        "\n",
        "\n",
        "pd.cut(s, 3)\n",
        "\n",
        "# You can also add labels for the sizes [Small < Medium < Large].\n",
        "pd.cut(s, 3, labels=['Small', 'Medium', 'Large'])"
      ],
      "execution_count": 12,
      "outputs": [
        {
          "output_type": "execute_result",
          "data": {
            "text/plain": [
              "0      Small\n",
              "1     Medium\n",
              "2      Small\n",
              "3      Large\n",
              "4      Small\n",
              "5      Large\n",
              "6     Medium\n",
              "7     Medium\n",
              "8      Small\n",
              "9      Small\n",
              "10    Medium\n",
              "11    Medium\n",
              "12    Medium\n",
              "13     Small\n",
              "dtype: category\n",
              "Categories (3, object): [Small < Medium < Large]"
            ]
          },
          "metadata": {
            "tags": []
          },
          "execution_count": 12
        }
      ]
    },
    {
      "cell_type": "code",
      "metadata": {
        "id": "YnGu5tekQF85",
        "colab_type": "code",
        "colab": {
          "base_uri": "https://localhost:8080/",
          "height": 986
        },
        "outputId": "c613f65f-77ca-4c17-e9d8-796e80ca43b7"
      },
      "source": [
        "import numpy as np\n",
        "\n",
        "df = pd.read_csv('census.csv')\n",
        "df = df[df['SUMLEV']==50]\n",
        "df = df.set_index('STNAME').groupby(level=0)['CENSUS2010POP'].agg([('avg', np.average)])\n",
        "result = pd.cut(df['avg'],10)\n",
        "result"
      ],
      "execution_count": 16,
      "outputs": [
        {
          "output_type": "execute_result",
          "data": {
            "text/plain": [
              "STNAME\n",
              "Alabama                   (11706.087, 75333.413]\n",
              "Alaska                    (11706.087, 75333.413]\n",
              "Arizona                 (390320.176, 453317.529]\n",
              "Arkansas                  (11706.087, 75333.413]\n",
              "California              (579312.234, 642309.586]\n",
              "Colorado                 (75333.413, 138330.766]\n",
              "Connecticut             (390320.176, 453317.529]\n",
              "Delaware                (264325.471, 327322.823]\n",
              "District of Columbia    (579312.234, 642309.586]\n",
              "Florida                 (264325.471, 327322.823]\n",
              "Georgia                   (11706.087, 75333.413]\n",
              "Hawaii                  (264325.471, 327322.823]\n",
              "Idaho                     (11706.087, 75333.413]\n",
              "Illinois                 (75333.413, 138330.766]\n",
              "Indiana                   (11706.087, 75333.413]\n",
              "Iowa                      (11706.087, 75333.413]\n",
              "Kansas                    (11706.087, 75333.413]\n",
              "Kentucky                  (11706.087, 75333.413]\n",
              "Louisiana                 (11706.087, 75333.413]\n",
              "Maine                    (75333.413, 138330.766]\n",
              "Maryland                (201328.118, 264325.471]\n",
              "Massachusetts           (453317.529, 516314.881]\n",
              "Michigan                 (75333.413, 138330.766]\n",
              "Minnesota                 (11706.087, 75333.413]\n",
              "Mississippi               (11706.087, 75333.413]\n",
              "Missouri                  (11706.087, 75333.413]\n",
              "Montana                   (11706.087, 75333.413]\n",
              "Nebraska                  (11706.087, 75333.413]\n",
              "Nevada                  (138330.766, 201328.118]\n",
              "New Hampshire            (75333.413, 138330.766]\n",
              "New Jersey              (390320.176, 453317.529]\n",
              "New Mexico                (11706.087, 75333.413]\n",
              "New York                (264325.471, 327322.823]\n",
              "North Carolina           (75333.413, 138330.766]\n",
              "North Dakota              (11706.087, 75333.413]\n",
              "Ohio                     (75333.413, 138330.766]\n",
              "Oklahoma                  (11706.087, 75333.413]\n",
              "Oregon                   (75333.413, 138330.766]\n",
              "Pennsylvania            (138330.766, 201328.118]\n",
              "Rhode Island            (201328.118, 264325.471]\n",
              "South Carolina           (75333.413, 138330.766]\n",
              "South Dakota              (11706.087, 75333.413]\n",
              "Tennessee                 (11706.087, 75333.413]\n",
              "Texas                    (75333.413, 138330.766]\n",
              "Utah                     (75333.413, 138330.766]\n",
              "Vermont                   (11706.087, 75333.413]\n",
              "Virginia                  (11706.087, 75333.413]\n",
              "Washington              (138330.766, 201328.118]\n",
              "West Virginia             (11706.087, 75333.413]\n",
              "Wisconsin                (75333.413, 138330.766]\n",
              "Wyoming                   (11706.087, 75333.413]\n",
              "Name: avg, dtype: category\n",
              "Categories (10, interval[float64]): [(11706.087, 75333.413] < (75333.413, 138330.766] <\n",
              "                                     (138330.766, 201328.118] < (201328.118, 264325.471] < ... <\n",
              "                                     (390320.176, 453317.529] < (453317.529, 516314.881] <\n",
              "                                     (516314.881, 579312.234] < (579312.234, 642309.586]]"
            ]
          },
          "metadata": {
            "tags": []
          },
          "execution_count": 16
        }
      ]
    },
    {
      "cell_type": "code",
      "metadata": {
        "id": "8XyfgciMP5k_",
        "colab_type": "code",
        "colab": {
          "base_uri": "https://localhost:8080/",
          "height": 153
        },
        "outputId": "718e922b-9f8f-44c9-cee0-fc2e118688c0"
      },
      "source": [
        "df = pd.read_csv('census.csv')\n",
        "df = df[df['SUMLEV']==50]\n",
        "df = df.set_index('STNAME').groupby(level=0)['CENSUS2010POP'].agg([('avg', np.average)])\n",
        "result = pd.cut(df['avg'],10, labels=[0,1,2,3,4,5,6,7,8,9])\n",
        "result.head()"
      ],
      "execution_count": 18,
      "outputs": [
        {
          "output_type": "execute_result",
          "data": {
            "text/plain": [
              "STNAME\n",
              "Alabama       0\n",
              "Alaska        0\n",
              "Arizona       6\n",
              "Arkansas      0\n",
              "California    9\n",
              "Name: avg, dtype: category\n",
              "Categories (10, int64): [0 < 1 < 2 < 3 ... 6 < 7 < 8 < 9]"
            ]
          },
          "metadata": {
            "tags": []
          },
          "execution_count": 18
        }
      ]
    }
  ]
}