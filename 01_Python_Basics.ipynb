{
  "nbformat": 4,
  "nbformat_minor": 0,
  "metadata": {
    "colab": {
      "name": "01_Python_Basics.ipynb",
      "provenance": []
    },
    "kernelspec": {
      "name": "python3",
      "display_name": "Python 3"
    }
  },
  "cells": [
    {
      "cell_type": "markdown",
      "metadata": {
        "id": "DG_n4KtKNYuk",
        "colab_type": "text"
      },
      "source": [
        "# **Python Basics**\n",
        "___\n",
        "___"
      ]
    },
    {
      "cell_type": "markdown",
      "metadata": {
        "id": "EEN0oMPDOPP1",
        "colab_type": "text"
      },
      "source": [
        "### Topics\n",
        "\n",
        "\n",
        "*   Function Assignment\n",
        "*   Object Type\n",
        "*   Tupple & List\n",
        "*   List explore\n",
        "*   List Range\n",
        "*   Split\n",
        "*   Dictionary\n",
        "*   Tupple to variable\n",
        "*   Print formatted String\n",
        "*   Map \n",
        "\n"
      ]
    },
    {
      "cell_type": "markdown",
      "metadata": {
        "id": "noXNnWxUNfba",
        "colab_type": "text"
      },
      "source": [
        "**Function Assignment**"
      ]
    },
    {
      "cell_type": "code",
      "metadata": {
        "id": "WLuMCEnCNX7W",
        "colab_type": "code",
        "colab": {
          "base_uri": "https://localhost:8080/",
          "height": 34
        },
        "outputId": "86d87692-e90c-4631-8b99-b6e60a2717a0"
      },
      "source": [
        "def func(a,b, c=None):\n",
        "  if c==None:\n",
        "    return a+b\n",
        "  else:\n",
        "    return a+b+c\n",
        "\n",
        "f = func\n",
        "result = f(5,6)\n",
        "print(result)"
      ],
      "execution_count": 1,
      "outputs": [
        {
          "output_type": "stream",
          "text": [
            "11\n"
          ],
          "name": "stdout"
        }
      ]
    },
    {
      "cell_type": "markdown",
      "metadata": {
        "id": "NboAKeE8OdWP",
        "colab_type": "text"
      },
      "source": [
        "**Object Type**"
      ]
    },
    {
      "cell_type": "code",
      "metadata": {
        "id": "XivGizUoOfWa",
        "colab_type": "code",
        "colab": {
          "base_uri": "https://localhost:8080/",
          "height": 68
        },
        "outputId": "64599c39-4fd9-40e0-9ffe-005c6491a4b2"
      },
      "source": [
        "print(type(\"This is a string\"))\n",
        "print(type(None))\n",
        "print(type(func))"
      ],
      "execution_count": 3,
      "outputs": [
        {
          "output_type": "stream",
          "text": [
            "<class 'str'>\n",
            "<class 'NoneType'>\n",
            "<class 'function'>\n"
          ],
          "name": "stdout"
        }
      ]
    },
    {
      "cell_type": "markdown",
      "metadata": {
        "id": "t39IZ-07O-a_",
        "colab_type": "text"
      },
      "source": [
        "**Tupple & List**"
      ]
    },
    {
      "cell_type": "code",
      "metadata": {
        "id": "72EDiuMsPA1G",
        "colab_type": "code",
        "colab": {
          "base_uri": "https://localhost:8080/",
          "height": 51
        },
        "outputId": "bb506aa3-38e1-4ba8-ca11-d8e87ded2f44"
      },
      "source": [
        "# Tuples are an immutable data structure (cannot be altered).\n",
        "tupple = (1, 'a', 2, 3)\n",
        "mylist = [1, 'a', 2, 3]\n",
        "\n",
        "print(type(tupple))\n",
        "print(type(mylist))"
      ],
      "execution_count": 5,
      "outputs": [
        {
          "output_type": "stream",
          "text": [
            "<class 'tuple'>\n",
            "<class 'list'>\n"
          ],
          "name": "stdout"
        }
      ]
    },
    {
      "cell_type": "markdown",
      "metadata": {
        "id": "A5sQlDcNPZJ0",
        "colab_type": "text"
      },
      "source": [
        "**List explore**"
      ]
    },
    {
      "cell_type": "code",
      "metadata": {
        "id": "HFVe0KUkPbTo",
        "colab_type": "code",
        "colab": {
          "base_uri": "https://localhost:8080/",
          "height": 221
        },
        "outputId": "24df366d-f11d-4ceb-fbc2-642e3ed30f75"
      },
      "source": [
        "mylist.append(3.3)\n",
        "print(mylist)\n",
        "mylist = [1,2,3,4]\n",
        "mylist = mylist + mylist\n",
        "print(mylist)\n",
        "\n",
        "for i in mylist:\n",
        "  print(i)\n",
        "\n",
        "mylist = mylist * 2\n",
        "print(mylist)\n",
        "\n",
        "print(4 in mylist)"
      ],
      "execution_count": 7,
      "outputs": [
        {
          "output_type": "stream",
          "text": [
            "[1, 2, 3, 4, 1, 2, 3, 4, 1, 2, 3, 4, 1, 2, 3, 4, 1, 2, 3, 4, 1, 2, 3, 4, 1, 2, 3, 4, 1, 2, 3, 4, 1, 2, 3, 4, 1, 2, 3, 4, 3.3]\n",
            "[1, 2, 3, 4, 1, 2, 3, 4]\n",
            "1\n",
            "2\n",
            "3\n",
            "4\n",
            "1\n",
            "2\n",
            "3\n",
            "4\n",
            "[1, 2, 3, 4, 1, 2, 3, 4, 1, 2, 3, 4, 1, 2, 3, 4]\n",
            "True\n"
          ],
          "name": "stdout"
        }
      ]
    },
    {
      "cell_type": "markdown",
      "metadata": {
        "id": "99uMMO-eQbqB",
        "colab_type": "text"
      },
      "source": [
        "**List Range OR Bracket**"
      ]
    },
    {
      "cell_type": "code",
      "metadata": {
        "id": "D5AisGD6QgL8",
        "colab_type": "code",
        "colab": {
          "base_uri": "https://localhost:8080/",
          "height": 153
        },
        "outputId": "3b6f8a46-aa73-4a85-f58f-edfbf2bc4bd5"
      },
      "source": [
        "x = 'This is a string'\n",
        "print(x[0]) #first character\n",
        "print(x[0:1]) #first character, but we have explicitly set the end character\n",
        "print(x[0:2]) #first two characters\n",
        "\n",
        "print(x[-1])\n",
        "print(x[-4:-2])\n",
        "print(x[2:4])\n",
        "print(x[:5])\n",
        "print(x[5:])"
      ],
      "execution_count": 15,
      "outputs": [
        {
          "output_type": "stream",
          "text": [
            "T\n",
            "T\n",
            "Th\n",
            "g\n",
            "ri\n",
            "is\n",
            "This \n",
            "is a string\n"
          ],
          "name": "stdout"
        }
      ]
    },
    {
      "cell_type": "markdown",
      "metadata": {
        "id": "rxU9KGCsX5mn",
        "colab_type": "text"
      },
      "source": [
        "**Split to List**"
      ]
    },
    {
      "cell_type": "code",
      "metadata": {
        "id": "v2mLweR3X9BP",
        "colab_type": "code",
        "colab": {
          "base_uri": "https://localhost:8080/",
          "height": 51
        },
        "outputId": "c8b5c98f-1833-4287-93d0-6ca2d3086d17"
      },
      "source": [
        "firstname = 'Christopher Arthur Hansen Brooks'.split(' ')[0] # [0] selects the first element of the list\n",
        "lastname = 'Christopher Arthur Hansen Brooks'.split(' ')[-1] # [-1] selects the last element of the list\n",
        "print(firstname)\n",
        "print(lastname)"
      ],
      "execution_count": 16,
      "outputs": [
        {
          "output_type": "stream",
          "text": [
            "Christopher\n",
            "Brooks\n"
          ],
          "name": "stdout"
        }
      ]
    },
    {
      "cell_type": "markdown",
      "metadata": {
        "id": "7PQud-stYsso",
        "colab_type": "text"
      },
      "source": [
        "**Dictionary**"
      ]
    },
    {
      "cell_type": "code",
      "metadata": {
        "id": "GDTH7jnhYvQm",
        "colab_type": "code",
        "colab": {
          "base_uri": "https://localhost:8080/",
          "height": 170
        },
        "outputId": "bb00a347-35a9-48ee-822c-f5d936d5b432"
      },
      "source": [
        "x = {'Christopher Brooks': 'brooksch@umich.edu', 'Bill Gates': 'billg@microsoft.com'}\n",
        "print(x['Christopher Brooks']) # Retrieve a value by using the indexing operator\n",
        "\n",
        "# Through index\n",
        "for name in x:\n",
        "  print(x[name])\n",
        "\n",
        "# Through values\n",
        "for email in x.values():\n",
        "  print(email)\n",
        "\n",
        "# Both Extraction\n",
        "for name, email in x.items():\n",
        "    print(name)\n",
        "    print(email)"
      ],
      "execution_count": 20,
      "outputs": [
        {
          "output_type": "stream",
          "text": [
            "brooksch@umich.edu\n",
            "brooksch@umich.edu\n",
            "billg@microsoft.com\n",
            "brooksch@umich.edu\n",
            "billg@microsoft.com\n",
            "Christopher Brooks\n",
            "brooksch@umich.edu\n",
            "Bill Gates\n",
            "billg@microsoft.com\n"
          ],
          "name": "stdout"
        }
      ]
    },
    {
      "cell_type": "markdown",
      "metadata": {
        "id": "erLoFixmZvxo",
        "colab_type": "text"
      },
      "source": [
        "**Tupple to variable**"
      ]
    },
    {
      "cell_type": "code",
      "metadata": {
        "id": "JHenjKveZ0D3",
        "colab_type": "code",
        "colab": {
          "base_uri": "https://localhost:8080/",
          "height": 34
        },
        "outputId": "4742665f-cdbf-4554-c7e7-d9053559d518"
      },
      "source": [
        "x = ('Christopher', 'Brooks', 'brooksch@umich.edu')\n",
        "fname, lname, email = x\n",
        "print(fname)"
      ],
      "execution_count": 21,
      "outputs": [
        {
          "output_type": "stream",
          "text": [
            "Christopher\n"
          ],
          "name": "stdout"
        }
      ]
    },
    {
      "cell_type": "markdown",
      "metadata": {
        "id": "Hng2l4b8acI8",
        "colab_type": "text"
      },
      "source": [
        "**Print Formatted String**"
      ]
    },
    {
      "cell_type": "code",
      "metadata": {
        "id": "fMTchDcXagCi",
        "colab_type": "code",
        "colab": {
          "base_uri": "https://localhost:8080/",
          "height": 34
        },
        "outputId": "9e03ecd1-3bbd-4f20-fc37-a2223708d143"
      },
      "source": [
        "sales_record = {\n",
        "'price': 3.24,\n",
        "'num_items': 4,\n",
        "'person': 'Chris'}\n",
        "\n",
        "sales_statement = '{} bought {} item(s) at a price of {} each for a total of {}'\n",
        "\n",
        "print(sales_statement.format(sales_record['person'],\n",
        "                             sales_record['num_items'],\n",
        "                             sales_record['price'],\n",
        "                             sales_record['num_items']*sales_record['price']))"
      ],
      "execution_count": 22,
      "outputs": [
        {
          "output_type": "stream",
          "text": [
            "Chris bought 4 item(s) at a price of 3.24 each for a total of 12.96\n"
          ],
          "name": "stdout"
        }
      ]
    },
    {
      "cell_type": "markdown",
      "metadata": {
        "id": "SUCiiLvdizim",
        "colab_type": "text"
      },
      "source": [
        "**Map**"
      ]
    },
    {
      "cell_type": "code",
      "metadata": {
        "id": "iW7i6O1di1Ty",
        "colab_type": "code",
        "colab": {
          "base_uri": "https://localhost:8080/",
          "height": 34
        },
        "outputId": "e9f9c94a-8b14-443a-d622-d39402f2a674"
      },
      "source": [
        "store1 = [10.00, 11.00, 12.34, 2.34]\n",
        "store2 = [9.00, 11.10, 12.34, 2.01]\n",
        "cheapest = map(min, store1, store2)\n",
        "print(cheapest)"
      ],
      "execution_count": 24,
      "outputs": [
        {
          "output_type": "stream",
          "text": [
            "<map object at 0x7f44edb35240>\n"
          ],
          "name": "stdout"
        }
      ]
    },
    {
      "cell_type": "code",
      "metadata": {
        "id": "5Ym5cwHTi3Uw",
        "colab_type": "code",
        "colab": {
          "base_uri": "https://localhost:8080/",
          "height": 85
        },
        "outputId": "0326301b-e1fa-45b6-f5e1-b523d990002a"
      },
      "source": [
        "for item in cheapest:\n",
        "    print(item)"
      ],
      "execution_count": 25,
      "outputs": [
        {
          "output_type": "stream",
          "text": [
            "9.0\n",
            "11.0\n",
            "12.34\n",
            "2.01\n"
          ],
          "name": "stdout"
        }
      ]
    }
  ]
}