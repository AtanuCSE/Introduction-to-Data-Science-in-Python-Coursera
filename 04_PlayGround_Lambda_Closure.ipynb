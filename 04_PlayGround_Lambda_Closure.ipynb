{
  "nbformat": 4,
  "nbformat_minor": 0,
  "metadata": {
    "colab": {
      "name": "04_PlayGround_Lambda_Closure.ipynb",
      "provenance": [],
      "collapsed_sections": []
    },
    "kernelspec": {
      "name": "python3",
      "display_name": "Python 3"
    }
  },
  "cells": [
    {
      "cell_type": "markdown",
      "metadata": {
        "id": "IRt82D4-wrUE",
        "colab_type": "text"
      },
      "source": [
        "# **Lambda Functions and Closures**\n",
        "___\n",
        "___"
      ]
    },
    {
      "cell_type": "markdown",
      "metadata": {
        "id": "9z4-pzAVx9-Y",
        "colab_type": "text"
      },
      "source": [
        "**Lambda function is also called Anonymous function**\n",
        "\n",
        "***Topics***\n",
        "\n",
        "*   Lambda function\n",
        "*   Filter function\n",
        "*   Map function\n",
        "*   Closures"
      ]
    },
    {
      "cell_type": "code",
      "metadata": {
        "id": "5u7_oGd_weum",
        "colab_type": "code",
        "colab": {
          "base_uri": "https://localhost:8080/",
          "height": 34
        },
        "outputId": "3d51beac-6f7b-4b74-af52-9e882f956d63"
      },
      "source": [
        "def identity(x):\n",
        "  return x\n",
        "\n",
        "lambda x: x\n",
        "#Same function as lamda"
      ],
      "execution_count": 2,
      "outputs": [
        {
          "output_type": "execute_result",
          "data": {
            "text/plain": [
              "<function __main__.<lambda>>"
            ]
          },
          "metadata": {
            "tags": []
          },
          "execution_count": 2
        }
      ]
    },
    {
      "cell_type": "markdown",
      "metadata": {
        "id": "6rW4EDVtxSdu",
        "colab_type": "text"
      },
      "source": [
        "- The keyword: lambda\n",
        "- A bound variable: x\n",
        "- A body: x\n"
      ]
    },
    {
      "cell_type": "code",
      "metadata": {
        "id": "sIpGWd8uxbnH",
        "colab_type": "code",
        "colab": {
          "base_uri": "https://localhost:8080/",
          "height": 34
        },
        "outputId": "17189767-0480-4498-f473-81190e49ae18"
      },
      "source": [
        "(lambda x: x + 1)(2) # 2 is passed into the function"
      ],
      "execution_count": 4,
      "outputs": [
        {
          "output_type": "execute_result",
          "data": {
            "text/plain": [
              "3"
            ]
          },
          "metadata": {
            "tags": []
          },
          "execution_count": 4
        }
      ]
    },
    {
      "cell_type": "code",
      "metadata": {
        "id": "JImQjjMOxpOU",
        "colab_type": "code",
        "colab": {
          "base_uri": "https://localhost:8080/",
          "height": 34
        },
        "outputId": "6cbf66bb-1fd9-4db9-becc-8d7806150619"
      },
      "source": [
        "add_one = lambda x: x + 1\n",
        "add_one(2)"
      ],
      "execution_count": 5,
      "outputs": [
        {
          "output_type": "execute_result",
          "data": {
            "text/plain": [
              "3"
            ]
          },
          "metadata": {
            "tags": []
          },
          "execution_count": 5
        }
      ]
    },
    {
      "cell_type": "code",
      "metadata": {
        "id": "54tqvjPryIyl",
        "colab_type": "code",
        "colab": {
          "base_uri": "https://localhost:8080/",
          "height": 34
        },
        "outputId": "b8bc1809-f116-450b-fae2-ce8d3fd6d170"
      },
      "source": [
        "(lambda x, y: x + y)(2, 3)"
      ],
      "execution_count": 7,
      "outputs": [
        {
          "output_type": "execute_result",
          "data": {
            "text/plain": [
              "5"
            ]
          },
          "metadata": {
            "tags": []
          },
          "execution_count": 7
        }
      ]
    },
    {
      "cell_type": "markdown",
      "metadata": {
        "id": "xCJpIql5yltu",
        "colab_type": "text"
      },
      "source": [
        "**Function as parameter within Lambda expression**"
      ]
    },
    {
      "cell_type": "code",
      "metadata": {
        "id": "8UAECCxzyreO",
        "colab_type": "code",
        "colab": {
          "base_uri": "https://localhost:8080/",
          "height": 34
        },
        "outputId": "3c5d275b-d8d5-4912-a5f5-a8baee27dbbf"
      },
      "source": [
        "high_ord_func = lambda x, func: x + func(x) # Declaration\n",
        "\n",
        "high_ord_func(2, lambda x: x * x) # Call"
      ],
      "execution_count": 9,
      "outputs": [
        {
          "output_type": "execute_result",
          "data": {
            "text/plain": [
              "6"
            ]
          },
          "metadata": {
            "tags": []
          },
          "execution_count": 9
        }
      ]
    },
    {
      "cell_type": "code",
      "metadata": {
        "id": "NPMqkWamzNFO",
        "colab_type": "code",
        "colab": {
          "base_uri": "https://localhost:8080/",
          "height": 37
        },
        "outputId": "ea6ec6b3-dc96-459b-ef16-8acb45f2248f"
      },
      "source": [
        "(lambda x: (x % 2 and 'odd' or 'even'))(3)"
      ],
      "execution_count": 10,
      "outputs": [
        {
          "output_type": "execute_result",
          "data": {
            "application/vnd.google.colaboratory.intrinsic+json": {
              "type": "string"
            },
            "text/plain": [
              "'odd'"
            ]
          },
          "metadata": {
            "tags": []
          },
          "execution_count": 10
        }
      ]
    },
    {
      "cell_type": "code",
      "metadata": {
        "id": "2v-1QKmuzkjZ",
        "colab_type": "code",
        "colab": {
          "base_uri": "https://localhost:8080/",
          "height": 34
        },
        "outputId": "2a1d3f4a-fb11-4334-bc73-2d381d0a7cac"
      },
      "source": [
        "(lambda x, y, z=3: x + y + z)(1, y=2)"
      ],
      "execution_count": 11,
      "outputs": [
        {
          "output_type": "execute_result",
          "data": {
            "text/plain": [
              "6"
            ]
          },
          "metadata": {
            "tags": []
          },
          "execution_count": 11
        }
      ]
    },
    {
      "cell_type": "code",
      "metadata": {
        "id": "vS-CAxakzpiE",
        "colab_type": "code",
        "colab": {
          "base_uri": "https://localhost:8080/",
          "height": 34
        },
        "outputId": "54709c9b-3d19-4fae-9d81-e89e126da8e3"
      },
      "source": [
        "(lambda *args: sum(args))(1,2,3)"
      ],
      "execution_count": 12,
      "outputs": [
        {
          "output_type": "execute_result",
          "data": {
            "text/plain": [
              "6"
            ]
          },
          "metadata": {
            "tags": []
          },
          "execution_count": 12
        }
      ]
    },
    {
      "cell_type": "code",
      "metadata": {
        "id": "8u6F5A1Ozwtf",
        "colab_type": "code",
        "colab": {
          "base_uri": "https://localhost:8080/",
          "height": 34
        },
        "outputId": "962d0a49-8cd3-48f4-fcd7-815f31811d55"
      },
      "source": [
        "(lambda **kwargs: sum(kwargs.values()))(one=1, two=2, three=3)"
      ],
      "execution_count": 13,
      "outputs": [
        {
          "output_type": "execute_result",
          "data": {
            "text/plain": [
              "6"
            ]
          },
          "metadata": {
            "tags": []
          },
          "execution_count": 13
        }
      ]
    },
    {
      "cell_type": "markdown",
      "metadata": {
        "id": "YueL7w8s2vok",
        "colab_type": "text"
      },
      "source": [
        "Filter function"
      ]
    },
    {
      "cell_type": "code",
      "metadata": {
        "id": "E2VmYp7R2S-2",
        "colab_type": "code",
        "colab": {
          "base_uri": "https://localhost:8080/",
          "height": 34
        },
        "outputId": "f248a8fb-e37a-46ed-b2c9-3d61bab7d597"
      },
      "source": [
        "# Program to filter out only the even items from a list\n",
        "my_list = [1, 5, 4, 6, 8, 11, 3, 12]\n",
        "list(filter(lambda x: (x%2 == 0) , my_list))"
      ],
      "execution_count": 19,
      "outputs": [
        {
          "output_type": "execute_result",
          "data": {
            "text/plain": [
              "[4, 6, 8, 12]"
            ]
          },
          "metadata": {
            "tags": []
          },
          "execution_count": 19
        }
      ]
    },
    {
      "cell_type": "markdown",
      "metadata": {
        "id": "r_eo-8mQ20Xz",
        "colab_type": "text"
      },
      "source": [
        "Map function"
      ]
    },
    {
      "cell_type": "code",
      "metadata": {
        "id": "RKGFQgWO2ujJ",
        "colab_type": "code",
        "colab": {
          "base_uri": "https://localhost:8080/",
          "height": 34
        },
        "outputId": "c2931be1-5fcb-4afa-b76f-7c7657f620ab"
      },
      "source": [
        "# Program to double each item in a list using map()\n",
        "\n",
        "my_list = [1, 5, 4, 6, 8, 11, 3, 12]\n",
        "\n",
        "new_list = list(map(lambda x: x * 2 , my_list))\n",
        "\n",
        "print(new_list)"
      ],
      "execution_count": 20,
      "outputs": [
        {
          "output_type": "stream",
          "text": [
            "[2, 10, 8, 12, 16, 22, 6, 24]\n"
          ],
          "name": "stdout"
        }
      ]
    },
    {
      "cell_type": "markdown",
      "metadata": {
        "id": "6gftBw-30e0X",
        "colab_type": "text"
      },
      "source": [
        "***Closure***"
      ]
    },
    {
      "cell_type": "markdown",
      "metadata": {
        "id": "l2JvCIn11Aly",
        "colab_type": "text"
      },
      "source": [
        "A closure is a function where every free variable, everything except parameters, used in that function is bound to a specific value defined in the enclosing scope of that function. In effect, closures define the environment in which they run, and so can be called from anywhere."
      ]
    },
    {
      "cell_type": "code",
      "metadata": {
        "id": "OuPe2X6E0gvn",
        "colab_type": "code",
        "colab": {
          "base_uri": "https://localhost:8080/",
          "height": 119
        },
        "outputId": "cc588f1d-70b7-4876-d0fc-f4c47f539b1e"
      },
      "source": [
        "def outer_func(x):\n",
        "  y = 4\n",
        "  def inner_func(z):\n",
        "    print(f\"x = {x}, y = {y}, z = {z}\")\n",
        "    return x + y + z\n",
        "  return inner_func\n",
        " \n",
        "for i in range(3):\n",
        "  closure = outer_func(i)\n",
        "  print(f\"closure({i+5}) = {closure(i+5)}\")"
      ],
      "execution_count": 15,
      "outputs": [
        {
          "output_type": "stream",
          "text": [
            "x = 0, y = 4, z = 5\n",
            "closure(5) = 9\n",
            "x = 1, y = 4, z = 6\n",
            "closure(6) = 11\n",
            "x = 2, y = 4, z = 7\n",
            "closure(7) = 13\n"
          ],
          "name": "stdout"
        }
      ]
    },
    {
      "cell_type": "markdown",
      "metadata": {
        "id": "37ViD3za07AT",
        "colab_type": "text"
      },
      "source": [
        "- x is passed as an argument to outer_func().\n",
        "- y is a variable local to outer_func().\n",
        "- z is an argument passed to inner_func()."
      ]
    },
    {
      "cell_type": "code",
      "metadata": {
        "id": "sqbKySGM1tMT",
        "colab_type": "code",
        "colab": {
          "base_uri": "https://localhost:8080/",
          "height": 68
        },
        "outputId": "6bc5190d-3a07-4df6-b8c8-e8d0592d38ea"
      },
      "source": [
        "def outer_func(x):\n",
        "  y = 4\n",
        "  return lambda z: x + y + z\n",
        "  \n",
        "for i in range(3):\n",
        "  closure = outer_func(i)\n",
        "  print(f\"closure({i+5}) = {closure(i+5)}\")"
      ],
      "execution_count": 17,
      "outputs": [
        {
          "output_type": "stream",
          "text": [
            "closure(5) = 9\n",
            "closure(6) = 11\n",
            "closure(7) = 13\n"
          ],
          "name": "stdout"
        }
      ]
    }
  ]
}